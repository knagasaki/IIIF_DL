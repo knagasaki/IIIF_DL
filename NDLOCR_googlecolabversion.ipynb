{
  "nbformat": 4,
  "nbformat_minor": 0,
  "metadata": {
    "colab": {
      "name": "NDLOCR-googlecolabversion.ipynb",
      "provenance": [],
      "collapsed_sections": [],
      "include_colab_link": true
    },
    "kernelspec": {
      "name": "python3",
      "display_name": "Python 3"
    },
    "language_info": {
      "name": "python"
    },
    "accelerator": "GPU"
  },
  "cells": [
    {
      "cell_type": "markdown",
      "metadata": {
        "id": "view-in-github",
        "colab_type": "text"
      },
      "source": [
        "<a href=\"https://colab.research.google.com/github/knagasaki/IIIF_DL/blob/master/NDLOCR_googlecolabversion.ipynb\" target=\"_parent\"><img src=\"https://colab.research.google.com/assets/colab-badge.svg\" alt=\"Open In Colab\"/></a>"
      ]
    },
    {
      "cell_type": "markdown",
      "source": [
        "# ※はじめに\n",
        "このコードは、中村覚先生の「[デジタルアーカイブシステムの技術ブログ](https://nakamura196.hatenablog.com/entry/2022/04/28/115553)」で公開されているNLD OCRを利用するためのコードを、IIIF manifestを用いてまとめて処理できるように改良したものです。\n",
        "\n",
        "# 0. GPUの情報を確認する"
      ],
      "metadata": {
        "id": "X3I17DDT9ggb"
      }
    },
    {
      "cell_type": "code",
      "source": [
        "!nvidia-smi"
      ],
      "metadata": {
        "id": "GgcHqHsqsUxq"
      },
      "execution_count": null,
      "outputs": []
    },
    {
      "cell_type": "markdown",
      "source": [
        "# 1. NDLOCRのリポジトリをcloneする(--recursiveを忘れずに！)"
      ],
      "metadata": {
        "id": "3QnKKcg49ou8"
      }
    },
    {
      "cell_type": "code",
      "execution_count": null,
      "metadata": {
        "id": "lsVnpiwzrwRW"
      },
      "outputs": [],
      "source": [
        "!git clone --recursive https://github.com/ndl-lab/ndlocr_cli"
      ]
    },
    {
      "cell_type": "markdown",
      "source": [
        "# 2. 必要なパッケージをインストールする"
      ],
      "metadata": {
        "id": "q-KWf4kR92Q-"
      }
    },
    {
      "cell_type": "code",
      "source": [
        "PROJECT_DIR=\"/content/ndlocr_cli\""
      ],
      "metadata": {
        "id": "13QSs6CDuChD"
      },
      "execution_count": null,
      "outputs": []
    },
    {
      "cell_type": "code",
      "source": [
        "!pip install -r {PROJECT_DIR}/requirements.txt\n",
        "!pip install torch==1.8.1+cu111 torchvision==0.9.1+cu111 -f https://download.pytorch.org/whl/lts/1.8/torch_lts.html\n",
        "!pip install mmcv-full==1.4.0 -f https://download.openmmlab.com/mmcv/dist/cu111/torch1.8.0/index.html\n",
        "##numpyのバージョン問題でcolabでは動かなかったのでアップデートする(参考:https://stackoverflow.com/questions/66060487/valueerror-numpy-ndarray-size-changed-may-indicate-binary-incompatibility-exp)\n",
        "!pip install --upgrade numpy"
      ],
      "metadata": {
        "id": "jZFRwd28xu0g"
      },
      "execution_count": null,
      "outputs": []
    },
    {
      "cell_type": "code",
      "source": [
        "%cd {PROJECT_DIR}/src/ndl_layout/mmdetection\n",
        "!python setup.py bdist_wheel\n",
        "!pip install dist/*.whl\n",
        "%cd /content"
      ],
      "metadata": {
        "id": "30KFK8rwtfks"
      },
      "execution_count": null,
      "outputs": []
    },
    {
      "cell_type": "markdown",
      "source": [
        "# 4. OCRに必要な学習済みモデルをダウンロードする"
      ],
      "metadata": {
        "id": "K_x1d12Z9Xx6"
      }
    },
    {
      "cell_type": "code",
      "source": [
        "%cd {PROJECT_DIR}\n",
        "!wget https://lab.ndl.go.jp/dataset/ndlocr/text_recognition/mojilist_NDL.txt -P ./src/text_recognition/models\n",
        "!wget https://lab.ndl.go.jp/dataset/ndlocr/text_recognition/ndlenfixed64-mj0-synth1.pth -P ./src/text_recognition/models\n",
        "!wget https://lab.ndl.go.jp/dataset/ndlocr/ndl_layout/ndl_layout_config.py -P ./src/ndl_layout/models\n",
        "!wget https://lab.ndl.go.jp/dataset/ndlocr/ndl_layout/epoch_140_all_eql_bt.pth -P ./src/ndl_layout/models\n",
        "!wget https://lab.ndl.go.jp/dataset/ndlocr/separate_pages_ssd/weights.hdf5 -P ./src/separate_pages_ssd/ssd_tools\n",
        "%cd /content/"
      ],
      "metadata": {
        "id": "MBjoBuLqssdC"
      },
      "execution_count": null,
      "outputs": []
    },
    {
      "cell_type": "markdown",
      "source": [
        "# 5. 環境変数を追加する"
      ],
      "metadata": {
        "id": "jc3YwE3E-LyX"
      }
    },
    {
      "cell_type": "code",
      "source": [
        "import os\n",
        "os.environ[\"PYTHONPATH\"]=os.environ[\"PYTHONPATH\"]+\":\"+f\"{PROJECT_DIR}/src/text_recognition/deep-text-recognition-benchmark\""
      ],
      "metadata": {
        "id": "8fbu-1_uvA6z"
      },
      "execution_count": null,
      "outputs": []
    },
    {
      "cell_type": "code",
      "source": [
        ""
      ],
      "metadata": {
        "id": "6n2RNrgYToLc"
      },
      "execution_count": null,
      "outputs": []
    },
    {
      "cell_type": "markdown",
      "source": [
        "# 6. PDFを画像に変換するためのパッケージのインストール"
      ],
      "metadata": {
        "id": "HgbqhxwY-SYe"
      }
    },
    {
      "cell_type": "code",
      "source": [
        "!apt-get install poppler-utils\n",
        "!pip install pdf2image "
      ],
      "metadata": {
        "id": "1l4WBtUe4eiH"
      },
      "execution_count": null,
      "outputs": []
    },
    {
      "cell_type": "markdown",
      "source": [
        "# 7. テキスト化したいIIIF化資料のJPEG画像ファイルをダウンロードする\n",
        "今回は、国立国会図書館デジタルコレクションが提供している\n",
        "国訳大蔵経. 第1冊（ https://dl.ndl.go.jp/info:ndljp/pid/1210630 ）をダウンロードしてみます。IIIF ManifestのURLは書誌情報の項目に記載されています。今回は以下のものになります。\n",
        "\n",
        "https://www.dl.ndl.go.jp/api/iiif/1210630/manifest.json\n",
        "\n"
      ],
      "metadata": {
        "id": "6-dbA4vy-bLa"
      }
    },
    {
      "cell_type": "code",
      "source": [
        "!mkdir -p /content/kdzk/img\n",
        "import urllib.request\n",
        "import json\n",
        "import sys\n",
        "\n",
        "url = 'https://www.dl.ndl.go.jp/api/iiif/1210630/manifest.json' #'http://www2.dhii.jp/nijl/NIJL0018/099-0014/manifest.json'\n",
        "readObj = urllib.request.urlopen(url)\n",
        "data = json.loads(readObj.read().decode('utf-8'))\n",
        "\n",
        "arImageUrls = []\n",
        "for seq in data['sequences']:\n",
        "     for canvas in seq['canvases']:\n",
        "         for image in canvas['images']:\n",
        "             arImageUrls.append(image['resource']['service']['@id'])\n",
        "\n",
        "tLen = len(str(len(arImageUrls))) + 1\n",
        "fileNumber = 1\n",
        "print ('downloading...')\n",
        "for imageUrl in arImageUrls:\n",
        "    localFilename = \"/content/kdzk/img/\"+str(fileNumber).zfill(tLen)+'.jpg'\n",
        "    imageUrl = imageUrl+'/full/full/0/default.jpg'\n",
        "    urllib.request.urlretrieve(imageUrl, localFilename)\n",
        "    fileNumber = fileNumber + 1\n",
        "    print (localFilename)"
      ],
      "metadata": {
        "id": "OOKZNp86yRPs"
      },
      "execution_count": null,
      "outputs": []
    },
    {
      "cell_type": "code",
      "source": [
        ""
      ],
      "metadata": {
        "id": "BF4OhT9e406v"
      },
      "execution_count": null,
      "outputs": []
    },
    {
      "cell_type": "markdown",
      "source": [
        "# 9. OCRの実行\n",
        "\n",
        "/content/tygz-001以下のimgディレクトリ内の画像を処理し、\n",
        "/content/tygz-001_outputに出力する場合"
      ],
      "metadata": {
        "id": "7royZQNVMPPb"
      }
    },
    {
      "cell_type": "code",
      "source": [
        "%cd {PROJECT_DIR}\n",
        "!python main.py infer /content/kdzk /content/kdzk_output -s s -x"
      ],
      "metadata": {
        "id": "TXpxjZm3wr62"
      },
      "execution_count": null,
      "outputs": []
    },
    {
      "cell_type": "markdown",
      "source": [
        "# 10. 結果の確認"
      ],
      "metadata": {
        "id": "oFWpRkPkMmIc"
      }
    },
    {
      "cell_type": "code",
      "source": [
        "import glob\n",
        "import os\n",
        "for fpath in sorted(glob.glob(\"/content/kdzk_output*/kdzk/txt/*_main.txt\")):\n",
        "    with open(fpath) as f:\n",
        "        txtdata=f.read()\n",
        "        print(os.path.basename(fpath).replace(\"_main.txt\",\"\"))\n",
        "        print(txtdata)"
      ],
      "metadata": {
        "id": "-kqQK2uqMHDJ"
      },
      "execution_count": null,
      "outputs": []
    }
  ]
}